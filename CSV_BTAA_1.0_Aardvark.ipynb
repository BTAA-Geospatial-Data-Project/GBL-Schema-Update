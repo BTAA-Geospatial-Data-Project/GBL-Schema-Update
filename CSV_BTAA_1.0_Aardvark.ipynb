{
 "cells": [
  {
   "cell_type": "markdown",
   "metadata": {},
   "source": [
    "## Update GEOMG Records\n",
    "\n",
    "The script aims to update the original GEOMG records to match the Aardvark version GeoBlaklight Metadata.\n",
    "- For `Subject` field,  migrate it into a new field called `ISO Topic Category` if the value comes from the [ISO Terms](https://airtable.com/tblQYoRv5nCaMOgim/viwjVPpqPcIyH6eul?blocks=hide), or migrate it into another new field called `Resource Type` if the value comes from the [LOC Genres](https://airtable.com/tblQYoRv5nCaMOgim/viwYc6Rpunc2W4t1h?blocks=hide). However, for those values comes neither of them, just remain them in the  `Subject` field instead.\n",
    "\n",
    "- For `Geometry Type` field, migrate it into the very first position of the `Resouce Type` followed by the word `data` if it is among `Point`, `Polygon`, `Line`, `Vector`, and `Raster`. However, if it is `Image`, just ignore it and do not migrate here.\n",
    "\n",
    "-  For `Is Part Of` field, first check if it contains multiple values seperated by `|`. If it does, split it and store the first value which is always the `Code` into a new field called `Member Of`, then store the rest parts into `Is Part Of`. However, for those which have only one code, just migrate it into `Member Of` and remain `Is Part Of` blank instead.\n",
    "\n",
    "\n",
    "#### Data Structure\n",
    "- `script.ipynb`\n",
    "-  `dataBefore` folder -> several CSV files downloaded from GEOMG website by institution\n",
    "-  `dataUpdate` folder -> several CSV files after updated\n",
    "\n",
    "\n",
    "\n",
    "#### Reminder\n",
    "**Updated fields `Member Of`, `Is Part Of`, `ISO Topic Category` and `Resource Type` are all appended at the rightmost columns. After going through the whole process of the script, you may need open the output CSV files on EXCEL or Google Spreadsheet to delete the useless columns and choose to re-order fields order as well if needed.**\n",
    "\n",
    "\n",
    "\n",
    "> Created by Gene Cheng([@Ziiiiing](https://github.com/Ziiiiing)) on April 20, 2021"
   ]
  },
  {
   "cell_type": "code",
   "execution_count": 1,
   "metadata": {},
   "outputs": [],
   "source": [
    "import csv\n",
    "import os"
   ]
  },
  {
   "cell_type": "code",
   "execution_count": 2,
   "metadata": {},
   "outputs": [],
   "source": [
    "iso_terms = ['Farming','Biota','Boundaries','Climatology,Meteorology and Atmosphere',\n",
    "             'Economy','Elevation','Environment','Geoscientific Information','Health',\n",
    "             'Imagery and Base Maps','Intelligence and Military','Inland Waters','Location',\n",
    "             'Oceans','Planning and Cadastral','Society','Structure','Transportation',\n",
    "             'Utilities and Communications']\n",
    "\n",
    "loc_genres = ['Aerial photographs','Aerial views','Aeronautical charts','Armillary spheres',\n",
    "              'Astronautical charts','Astronomical models','Composite atlases','Atlases',\n",
    "              'Bathymetric maps','Block diagrams','Bottle-charts','Cadastral maps',\n",
    "              'Cartographic materials','Cartographic materials for people with visual disabilities',\n",
    "              'Celestial charts','Celestial globes','Census data', 'Children\\'s atlases',\n",
    "              'Children\\'s maps','Comparative maps','Digital elevation models','Digital maps',\n",
    "              'Early maps','Ephemerides','Ethnographic maps','Fire insurance maps','Flow maps',\n",
    "              'Gazetteers','Geological cross-sections','Geological maps','Globes','Gores (Maps)',\n",
    "              'Gravity anomaly maps','Index maps','Linguistic atlases','Loran charts',\n",
    "              'Manuscript maps','Mappae mundi','Mental maps','Meteorological charts',\n",
    "              'Military maps','Mine maps','Miniature maps','Nautical charts','Outline maps',\n",
    "              'Photogrammetric maps','Photomaps','Physical maps','Pictorial maps','Plotting charts',\n",
    "              'Portolan charts','Quadrangle maps','Relief models','Remote-sensing maps','Road maps',\n",
    "              'Statistical maps','Stick charts','Strip maps','Thematic maps','Topographic maps',\n",
    "              'Tourist maps','Upside-down maps','Wall maps','World atlases','World maps',\n",
    "              'Worm\\'s-eye views','Zoning maps']\n",
    "\n",
    "migrate_types = ['Point', 'Polygon','Line', 'Vector', 'Raster']"
   ]
  },
  {
   "cell_type": "code",
   "execution_count": 6,
   "metadata": {},
   "outputs": [],
   "source": [
    "def updateRecords(file):\n",
    "    print(\"##### Updating\", file)\n",
    "    # read csv fields and records\n",
    "    fields = []\n",
    "    records = []\n",
    "    with open('dataBefore/' + file) as fr:\n",
    "        csv_reader = csv.reader(fr)\n",
    "        fields = next(csv_reader)\n",
    "        for row in csv_reader:\n",
    "            records.append(row)\n",
    "    \n",
    "    # add new fields for updated records\n",
    "    fields.append('Member Of')\n",
    "    fields.append('Is Part Of')\n",
    "    fields.append('ISO Topic Category')\n",
    "    fields.append('Resource Type')\n",
    "\n",
    "    # update records\n",
    "    for record in records:\n",
    "        code = record[39]\n",
    "        old_isPartOf = record[40]\n",
    "        old_geometryType = record[17]\n",
    "        old_subject = record[7]\n",
    "        \n",
    "        new_memberOf = ''\n",
    "        new_isPartOf = ''\n",
    "        new_resourceType = ''\n",
    "        new_iso = ''\n",
    "        \n",
    "        # Split multi-value 'Is Part Of'\n",
    "        if '|' in old_isPartOf:\n",
    "            new_memberOf = old_isPartOf.split('|')[0]\n",
    "            new_isPartOf = old_isPartOf.split('|')[1]\n",
    "        elif old_isPartOf == code:\n",
    "            new_memberOf = old_isPartOf\n",
    "        else:\n",
    "            new_isPartOf = old_isPartOf\n",
    "        \n",
    "        # Migrate 'Geometry Type'\n",
    "        if old_geometryType in migrate_types:\n",
    "            new_resourceType = old_geometryType + ' data'\n",
    "            record[17] = ''\n",
    "        elif old_geometryType == 'Image':       # FIXME: delete later\n",
    "            record[17] = ''\n",
    "        \n",
    "        # Split and migrate 'Subject'\n",
    "        if old_subject in iso_terms:\n",
    "            new_iso = old_subject\n",
    "            record[7] = ''\n",
    "        elif (old_subject in loc_genres) and (new_resourceType):\n",
    "            new_resourceType += '|' + old_subject\n",
    "            record[7] = ''\n",
    "        elif (old_subject in loc_genres) and (not new_resourceType):\n",
    "            new_resourceType = old_subject\n",
    "            record[7] = ''\n",
    "        \n",
    "        record[40] = ''                      \n",
    "        record.append(new_memberOf)\n",
    "        record.append(new_isPartOf)\n",
    "        record.append(new_iso)\n",
    "        record.append(new_resourceType)\n",
    "\n",
    "    # write a new CSV file\n",
    "    with open('dataUpdate/' + file[:-4] +'_updated.csv', 'w') as fw:\n",
    "        csv_writer = csv.writer(fw)\n",
    "        csv_writer.writerow(fields)\n",
    "        csv_writer.writerows(records)\n"
   ]
  },
  {
   "cell_type": "code",
   "execution_count": 7,
   "metadata": {},
   "outputs": [],
   "source": [
    "# store existing CSV files under 'dataBefore' folder into a list\n",
    "files = [ x for x in os.listdir('dataBefore') if x.endswith('.csv') ]"
   ]
  },
  {
   "cell_type": "code",
   "execution_count": 8,
   "metadata": {},
   "outputs": [
    {
     "name": "stdout",
     "output_type": "stream",
     "text": [
      "##### Updating wisconsin.csv\n",
      "##### Updating none.csv\n",
      "##### Updating minnesota.csv\n",
      "##### Updating maryland.csv\n",
      "##### Updating pennsylvania.csv\n",
      "##### Updating michigan.csv\n",
      "##### Updating stanford.csv\n",
      "##### Updating ohio.csv\n",
      "##### Updating nebraska.csv\n",
      "##### Updating Indiana.csv\n",
      "##### Updating purdue.csv\n",
      "##### Updating chicago.csv\n",
      "##### Updating harvard.csv\n",
      "##### Updating msu.csv\n",
      "##### Updating indianamaps.csv\n",
      "##### Updating illinois.csv\n",
      "##### Updating iowa.csv\n"
     ]
    }
   ],
   "source": [
    "for file in files:\n",
    "   updateRecords(file)"
   ]
  }
 ],
 "metadata": {
  "kernelspec": {
   "display_name": "Python 3",
   "language": "python",
   "name": "python3"
  },
  "language_info": {
   "codemirror_mode": {
    "name": "ipython",
    "version": 3
   },
   "file_extension": ".py",
   "mimetype": "text/x-python",
   "name": "python",
   "nbconvert_exporter": "python",
   "pygments_lexer": "ipython3",
   "version": "3.7.4"
  }
 },
 "nbformat": 4,
 "nbformat_minor": 2
}
